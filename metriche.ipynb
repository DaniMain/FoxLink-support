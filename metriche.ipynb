{
 "cells": [
  {
   "cell_type": "code",
   "execution_count": 28,
   "metadata": {},
   "outputs": [],
   "source": [
    "import csv\n",
    "\n",
    "def accuracy(table1, table2):\n",
    "    d1 = create_dict(table1)\n",
    "    d2 = create_dict(table2)\n",
    "    return str(len(d1))+' clusters found, accuracy is: '+str(calc_accuracy(d1, d2))+'%'\n",
    "\n",
    "def create_dict(table):\n",
    "    d = {}\n",
    "    reader = csv.reader(open(table, 'rt'))\n",
    "    for row in reader:\n",
    "        d[str(row[0])+str(row[1])] = str(row[2])\n",
    "    return d\n",
    "\n",
    "def calc_accuracy(d1, d2):\n",
    "    esatti=0\n",
    "    tot=0\n",
    "    for k in d1.keys():\n",
    "        if d1[k]==d2[k]:\n",
    "            esatti+=1\n",
    "        tot+=1\n",
    "    return (esatti/tot)*100"
   ]
  },
  {
   "cell_type": "code",
   "execution_count": 29,
   "metadata": {},
   "outputs": [
    {
     "data": {
      "text/plain": [
       "'9 clusters found, accuracy is: 100.0%'"
      ]
     },
     "execution_count": 29,
     "metadata": {},
     "output_type": "execute_result"
    }
   ],
   "source": [
    "accuracy('label0.csv','label1.csv')"
   ]
  }
 ],
 "metadata": {
  "kernelspec": {
   "display_name": "Python 3",
   "language": "python",
   "name": "python3"
  },
  "language_info": {
   "codemirror_mode": {
    "name": "ipython",
    "version": 3
   },
   "file_extension": ".py",
   "mimetype": "text/x-python",
   "name": "python",
   "nbconvert_exporter": "python",
   "pygments_lexer": "ipython3",
   "version": "3.7.3"
  }
 },
 "nbformat": 4,
 "nbformat_minor": 2
}
